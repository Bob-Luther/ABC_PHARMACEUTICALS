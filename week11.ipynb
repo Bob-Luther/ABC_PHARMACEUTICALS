{
 "cells": [
  {
   "cell_type": "code",
   "execution_count": 33,
   "id": "6ca3a123-34ae-4c1e-9cc7-b48c04558fb3",
   "metadata": {},
   "outputs": [],
   "source": [
    "import pandas as pd\n",
    "import pyodbc\n",
    "import statsmodels.api as sm\n",
    "from scipy import stats"
   ]
  },
  {
   "cell_type": "code",
   "execution_count": 35,
   "id": "bd744bbe-784c-4a37-878f-4c1ea31a372d",
   "metadata": {},
   "outputs": [],
   "source": [
    "connection_string = (\n",
    "    r'DRIVER={ODBC Driver 17 for SQL Server};'\n",
    "    r'SERVER=DESKTOP-FEC13P5\\SQLEXPRESS;'\n",
    "    r'DATABASE=ABC_Pharmaceutical;'\n",
    "    r'Trusted_Connection=yes;'\n",
    ")"
   ]
  },
  {
   "cell_type": "code",
   "execution_count": 37,
   "id": "7b64b751-5185-48a3-989d-24ce2c0107a6",
   "metadata": {},
   "outputs": [],
   "source": [
    "conn = pyodbc.connect(connection_string)"
   ]
  },
  {
   "cell_type": "code",
   "execution_count": 39,
   "id": "6499acbc-1b6b-427b-be2c-632503c13f56",
   "metadata": {},
   "outputs": [
    {
     "name": "stderr",
     "output_type": "stream",
     "text": [
      "C:\\Users\\ZINOX\\AppData\\Local\\Temp\\ipykernel_13976\\3474255200.py:2: UserWarning: pandas only supports SQLAlchemy connectable (engine/connection) or database string URI or sqlite3 DBAPI2 connection. Other DBAPI2 objects are not tested. Please consider using SQLAlchemy.\n",
      "  sales_data = pd.read_sql(query, conn)\n"
     ]
    }
   ],
   "source": [
    "query = \"SELECT * FROM sales_main\"\n",
    "sales_data = pd.read_sql(query, conn)"
   ]
  },
  {
   "cell_type": "code",
   "execution_count": 42,
   "id": "1de6e5eb-ae4a-46e6-b418-034b84f9002e",
   "metadata": {},
   "outputs": [],
   "source": [
    "sales_data.dropna(inplace=True)"
   ]
  },
  {
   "cell_type": "code",
   "execution_count": 24,
   "id": "ea874149-c7f5-4170-82d3-58970bab1804",
   "metadata": {},
   "outputs": [
    {
     "name": "stdout",
     "output_type": "stream",
     "text": [
      "  SalesID Distributor                      CustomerName        City  Country  \\\n",
      "0  152048     Koss                Erdman PLC Pharma Plc     Freital  Germany   \n",
      "1  152048     Koss                Erdman PLC Pharma Plc     Freital  Germany   \n",
      "2  152049     Koss     Hermiston LLC Pharmaceutical Ltd  Weingarten  Germany   \n",
      "3  152049     Koss     Hermiston LLC Pharmaceutical Ltd  Weingarten  Germany   \n",
      "4  152049     Koss     Hermiston LLC Pharmaceutical Ltd  Weingarten  Germany   \n",
      "\n",
      "  Latitude Longitude  ProductID  ChannelID   Channel           Product Name  \\\n",
      "0  51.0167     13.65      238.0        4.0  Hospital  Cephozumab Synmethate   \n",
      "1  51.0167     13.65      238.0        4.0  Hospital  Cephozumab Synmethate   \n",
      "2  47.8078    9.6417       59.0        2.0  Pharmacy  Alemtuvatol Megalinum   \n",
      "3  47.8078    9.6417       59.0        2.0  Pharmacy  Alemtuvatol Megalinum   \n",
      "4  47.8078    9.6417       59.0        2.0  Pharmacy  Alemtuvatol Megalinum   \n",
      "\n",
      "  Quantity  Price     Sales    Month        Year  SalesRepID         Manager  \n",
      "0     -313  768.0 -240384.0  January  2019-01-01         4.0   Britanny Bold  \n",
      "1     -313  768.0 -240384.0  January  2019-01-01         6.0   Britanny Bold  \n",
      "2     -187  682.0 -127534.0  January  2019-01-01         5.0  James Goodwill  \n",
      "3     -187  682.0 -127534.0  January  2019-01-01         9.0  James Goodwill  \n",
      "4     -187  682.0 -127534.0  January  2019-01-01        12.0  James Goodwill  \n"
     ]
    }
   ],
   "source": [
    "print(sales_data.head())"
   ]
  },
  {
   "cell_type": "code",
   "execution_count": 48,
   "id": "7b869c6f-fbd8-4653-8e88-a47331b1e176",
   "metadata": {},
   "outputs": [
    {
     "name": "stdout",
     "output_type": "stream",
     "text": [
      "Data types before conversion:\n",
      "SalesID          object\n",
      "Distributor      object\n",
      "CustomerName     object\n",
      "City             object\n",
      "Country          object\n",
      "Latitude         object\n",
      "Longitude        object\n",
      "ProductID       float64\n",
      "ChannelID       float64\n",
      "Channel          object\n",
      "Product Name     object\n",
      "Quantity         object\n",
      "Price           float64\n",
      "Sales           float64\n",
      "Month            object\n",
      "Year             object\n",
      "SalesRepID      float64\n",
      "Manager          object\n",
      "dtype: object\n"
     ]
    }
   ],
   "source": [
    "print(\"Data types before conversion:\")\n",
    "print(sales_data.dtypes)"
   ]
  },
  {
   "cell_type": "code",
   "execution_count": 54,
   "id": "4b3c9321-3796-492f-b9f1-44437055d73b",
   "metadata": {},
   "outputs": [],
   "source": [
    "sales_data['Price'] = pd.to_numeric(sales_data['Price'], errors='coerce')\n",
    "sales_data['Quantity'] = pd.to_numeric(sales_data['Quantity'], errors='coerce')\n",
    "\n"
   ]
  },
  {
   "cell_type": "code",
   "execution_count": 56,
   "id": "6f28968c-0000-44da-93a5-ee6d2eea4270",
   "metadata": {},
   "outputs": [
    {
     "name": "stdout",
     "output_type": "stream",
     "text": [
      "Hypothesis 1: Correlation coefficient: -0.0012, P-value: 0.2031\n"
     ]
    }
   ],
   "source": [
    "correlation, p_value_h1 = stats.pearsonr(sales_data['Price'], sales_data['Quantity'])\n",
    "print(f\"Hypothesis 1: Correlation coefficient: {correlation:.4f}, P-value: {p_value_h1:.4f}\")\n",
    "\n"
   ]
  },
  {
   "cell_type": "code",
   "execution_count": 60,
   "id": "a14b9314-e60a-41ab-8b16-4a648724bfcd",
   "metadata": {},
   "outputs": [
    {
     "name": "stdout",
     "output_type": "stream",
     "text": [
      "Hypothesis 2: T-statistic: -6.8860, P-value: 0.0000\n"
     ]
    }
   ],
   "source": [
    "hospital_sales = sales_data[sales_data['Channel'] == 'Hospital']['Quantity']\n",
    "pharmacy_sales = sales_data[sales_data['Channel'] == 'Pharmacy']['Quantity']\n",
    "t_stat, p_value_h2 = stats.ttest_ind(hospital_sales, pharmacy_sales, equal_var=False)\n",
    "print(f\"Hypothesis 2: T-statistic: {t_stat:.4f}, P-value: {p_value_h2:.4f}\")"
   ]
  },
  {
   "cell_type": "code",
   "execution_count": 68,
   "id": "dc2df5c1-65cf-4da1-99a2-c977ede5e7f7",
   "metadata": {},
   "outputs": [
    {
     "name": "stdout",
     "output_type": "stream",
     "text": [
      "Hypothesis 3: T-statistic: nan, P-value: nan\n"
     ]
    }
   ],
   "source": [
    "urban_sales = sales_data[sales_data['City'] == 'Sales']['Quantity']\n",
    "rural_sales = sales_data[sales_data['City'] == 'Sales']['Quantity']\n",
    "t_stat_h3, p_value_h3 = stats.ttest_ind(urban_sales, rural_sales, equal_var=False)\n",
    "print(f\"Hypothesis 3: T-statistic: {t_stat_h3:.4f}, P-value: {p_value_h3:.4f}\")"
   ]
  },
  {
   "cell_type": "code",
   "execution_count": 70,
   "id": "4813ad7e-f76f-4ee5-bb0e-9f2da4c1dc2a",
   "metadata": {},
   "outputs": [
    {
     "name": "stdout",
     "output_type": "stream",
     "text": [
      "Fail to reject Hypothesis 1: No significant correlation found.\n",
      "Reject Hypothesis 2: Sales performance varies significantly between Hospital and Pharmacy channels.\n",
      "Fail to reject Hypothesis 3: No significant difference found.\n"
     ]
    }
   ],
   "source": [
    "alpha = 0.05\n",
    "if p_value_h1 < alpha:\n",
    "    print(\"Reject Hypothesis 1: There is a significant correlation between product prices and sales quantities.\")\n",
    "else:\n",
    "    print(\"Fail to reject Hypothesis 1: No significant correlation found.\")\n",
    "\n",
    "if p_value_h2 < alpha:\n",
    "    print(\"Reject Hypothesis 2: Sales performance varies significantly between Hospital and Pharmacy channels.\")\n",
    "else:\n",
    "    print(\"Fail to reject Hypothesis 2: No significant difference found.\")\n",
    "\n",
    "if p_value_h3 < alpha:\n",
    "    print(\"Reject Hypothesis 3: Sales are significantly higher in urban areas compared to rural areas.\")\n",
    "else:\n",
    "    print(\"Fail to reject Hypothesis 3: No significant difference found.\")"
   ]
  },
  {
   "cell_type": "code",
   "execution_count": null,
   "id": "3925381c-8c44-4702-ba0b-a286ea46a0a1",
   "metadata": {},
   "outputs": [],
   "source": []
  }
 ],
 "metadata": {
  "kernelspec": {
   "display_name": "Python 3 (ipykernel)",
   "language": "python",
   "name": "python3"
  },
  "language_info": {
   "codemirror_mode": {
    "name": "ipython",
    "version": 3
   },
   "file_extension": ".py",
   "mimetype": "text/x-python",
   "name": "python",
   "nbconvert_exporter": "python",
   "pygments_lexer": "ipython3",
   "version": "3.12.4"
  }
 },
 "nbformat": 4,
 "nbformat_minor": 5
}
